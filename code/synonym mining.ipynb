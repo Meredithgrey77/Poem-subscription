{
 "cells": [
  {
   "cell_type": "code",
   "execution_count": 1,
   "id": "c3e5d05d",
   "metadata": {
    "collapsed": true
   },
   "outputs": [],
   "source": [
    "import pandas as pd\n",
    "import numpy as np"
   ]
  },
  {
   "cell_type": "code",
   "execution_count": 2,
   "id": "34fa8c79",
   "metadata": {
    "collapsed": true
   },
   "outputs": [],
   "source": [
    "#参数设置\n",
    "topk = 10 #返回近义词的个数\n",
    "rrange = 10 #上下文范围"
   ]
  },
  {
   "cell_type": "markdown",
   "id": "ef5a079d",
   "metadata": {},
   "source": [
    "# 1.导入数据"
   ]
  },
  {
   "cell_type": "code",
   "execution_count": 3,
   "id": "69b9f91e",
   "metadata": {
    "collapsed": true
   },
   "outputs": [],
   "source": [
    "table = pd.read_csv('wordlist_v3.csv')\n",
    "table = table.drop(['content'], axis = 1)"
   ]
  },
  {
   "cell_type": "code",
   "execution_count": 4,
   "id": "a17e7a91",
   "metadata": {},
   "outputs": [
    {
     "data": {
      "text/html": [
       "<div>\n",
       "<style scoped>\n",
       "    .dataframe tbody tr th:only-of-type {\n",
       "        vertical-align: middle;\n",
       "    }\n",
       "\n",
       "    .dataframe tbody tr th {\n",
       "        vertical-align: top;\n",
       "    }\n",
       "\n",
       "    .dataframe thead th {\n",
       "        text-align: right;\n",
       "    }\n",
       "</style>\n",
       "<table border=\"1\" class=\"dataframe\">\n",
       "  <thead>\n",
       "    <tr style=\"text-align: right;\">\n",
       "      <th></th>\n",
       "      <th>ID</th>\n",
       "      <th>Poem_id</th>\n",
       "      <th>line_number</th>\n",
       "      <th>simple</th>\n",
       "      <th>words</th>\n",
       "    </tr>\n",
       "  </thead>\n",
       "  <tbody>\n",
       "    <tr>\n",
       "      <th>0</th>\n",
       "      <td>1</td>\n",
       "      <td>4371</td>\n",
       "      <td>-100</td>\n",
       "      <td>##饯唐永昌( 一作饯唐郎中洛阳令)</td>\n",
       "      <td>饯 唐 永昌 一 作 饯 唐 郎中 洛阳 令</td>\n",
       "    </tr>\n",
       "    <tr>\n",
       "      <th>1</th>\n",
       "      <td>2</td>\n",
       "      <td>4371</td>\n",
       "      <td>-1</td>\n",
       "      <td>$$沈佺期</td>\n",
       "      <td>沈 期</td>\n",
       "    </tr>\n",
       "    <tr>\n",
       "      <th>2</th>\n",
       "      <td>3</td>\n",
       "      <td>4371</td>\n",
       "      <td>1</td>\n",
       "      <td>洛阳旧有( 一作出) 神明宰</td>\n",
       "      <td>洛阳 旧有 一 作 出 神明 宰</td>\n",
       "    </tr>\n",
       "    <tr>\n",
       "      <th>3</th>\n",
       "      <td>4</td>\n",
       "      <td>4371</td>\n",
       "      <td>2</td>\n",
       "      <td>辇毂由来天地中</td>\n",
       "      <td>辇毂 由来 天地 中</td>\n",
       "    </tr>\n",
       "    <tr>\n",
       "      <th>4</th>\n",
       "      <td>5</td>\n",
       "      <td>4371</td>\n",
       "      <td>3</td>\n",
       "      <td>馀邑政成何足贵</td>\n",
       "      <td>馀 邑 政成 何足 贵</td>\n",
       "    </tr>\n",
       "    <tr>\n",
       "      <th>...</th>\n",
       "      <td>...</td>\n",
       "      <td>...</td>\n",
       "      <td>...</td>\n",
       "      <td>...</td>\n",
       "      <td>...</td>\n",
       "    </tr>\n",
       "    <tr>\n",
       "      <th>46272</th>\n",
       "      <td>46273</td>\n",
       "      <td>39205</td>\n",
       "      <td>-1</td>\n",
       "      <td>$$李舜弦</td>\n",
       "      <td>李 舜弦</td>\n",
       "    </tr>\n",
       "    <tr>\n",
       "      <th>46273</th>\n",
       "      <td>46274</td>\n",
       "      <td>39205</td>\n",
       "      <td>1</td>\n",
       "      <td>饮筵中散酒微醒</td>\n",
       "      <td>饮 筵 中 散 酒 微 醒</td>\n",
       "    </tr>\n",
       "    <tr>\n",
       "      <th>46274</th>\n",
       "      <td>46275</td>\n",
       "      <td>39205</td>\n",
       "      <td>2</td>\n",
       "      <td>蒙蒙雨草瑶阶溼</td>\n",
       "      <td>蒙蒙 雨 草 瑶阶 溼</td>\n",
       "    </tr>\n",
       "    <tr>\n",
       "      <th>46275</th>\n",
       "      <td>46276</td>\n",
       "      <td>39205</td>\n",
       "      <td>3</td>\n",
       "      <td>钟晓愁吟独倚屏</td>\n",
       "      <td>钟 晓 愁吟 独倚 屏</td>\n",
       "    </tr>\n",
       "    <tr>\n",
       "      <th>46276</th>\n",
       "      <td>46277</td>\n",
       "      <td>39205</td>\n",
       "      <td>4</td>\n",
       "      <td>尽日池边钓锦鳞</td>\n",
       "      <td>尽日 池边 钓 锦鳞</td>\n",
       "    </tr>\n",
       "  </tbody>\n",
       "</table>\n",
       "<p>46277 rows × 5 columns</p>\n",
       "</div>"
      ],
      "text/plain": [
       "          ID  Poem_id  line_number              simple                   words\n",
       "0          1     4371         -100  ##饯唐永昌( 一作饯唐郎中洛阳令)  饯 唐 永昌 一 作 饯 唐 郎中 洛阳 令\n",
       "1          2     4371           -1               $$沈佺期                     沈 期\n",
       "2          3     4371            1      洛阳旧有( 一作出) 神明宰        洛阳 旧有 一 作 出 神明 宰\n",
       "3          4     4371            2             辇毂由来天地中              辇毂 由来 天地 中\n",
       "4          5     4371            3             馀邑政成何足贵             馀 邑 政成 何足 贵\n",
       "...      ...      ...          ...                 ...                     ...\n",
       "46272  46273    39205           -1               $$李舜弦                    李 舜弦\n",
       "46273  46274    39205            1             饮筵中散酒微醒           饮 筵 中 散 酒 微 醒\n",
       "46274  46275    39205            2             蒙蒙雨草瑶阶溼             蒙蒙 雨 草 瑶阶 溼\n",
       "46275  46276    39205            3             钟晓愁吟独倚屏             钟 晓 愁吟 独倚 屏\n",
       "46276  46277    39205            4             尽日池边钓锦鳞              尽日 池边 钓 锦鳞\n",
       "\n",
       "[46277 rows x 5 columns]"
      ]
     },
     "execution_count": 4,
     "metadata": {},
     "output_type": "execute_result"
    }
   ],
   "source": [
    "table"
   ]
  },
  {
   "cell_type": "code",
   "execution_count": 5,
   "id": "ba09c12a",
   "metadata": {},
   "outputs": [
    {
     "data": {
      "text/html": [
       "<div>\n",
       "<style scoped>\n",
       "    .dataframe tbody tr th:only-of-type {\n",
       "        vertical-align: middle;\n",
       "    }\n",
       "\n",
       "    .dataframe tbody tr th {\n",
       "        vertical-align: top;\n",
       "    }\n",
       "\n",
       "    .dataframe thead th {\n",
       "        text-align: right;\n",
       "    }\n",
       "</style>\n",
       "<table border=\"1\" class=\"dataframe\">\n",
       "  <thead>\n",
       "    <tr style=\"text-align: right;\">\n",
       "      <th></th>\n",
       "      <th>Poem_id</th>\n",
       "      <th>level_0</th>\n",
       "      <th>level_1</th>\n",
       "      <th>word</th>\n",
       "    </tr>\n",
       "  </thead>\n",
       "  <tbody>\n",
       "    <tr>\n",
       "      <th>0</th>\n",
       "      <td>4371</td>\n",
       "      <td>0</td>\n",
       "      <td>0</td>\n",
       "      <td>饯</td>\n",
       "    </tr>\n",
       "    <tr>\n",
       "      <th>1</th>\n",
       "      <td>4371</td>\n",
       "      <td>0</td>\n",
       "      <td>1</td>\n",
       "      <td>唐</td>\n",
       "    </tr>\n",
       "    <tr>\n",
       "      <th>2</th>\n",
       "      <td>4371</td>\n",
       "      <td>0</td>\n",
       "      <td>2</td>\n",
       "      <td>永昌</td>\n",
       "    </tr>\n",
       "    <tr>\n",
       "      <th>3</th>\n",
       "      <td>4371</td>\n",
       "      <td>0</td>\n",
       "      <td>3</td>\n",
       "      <td>一</td>\n",
       "    </tr>\n",
       "    <tr>\n",
       "      <th>4</th>\n",
       "      <td>4371</td>\n",
       "      <td>0</td>\n",
       "      <td>4</td>\n",
       "      <td>作</td>\n",
       "    </tr>\n",
       "    <tr>\n",
       "      <th>...</th>\n",
       "      <td>...</td>\n",
       "      <td>...</td>\n",
       "      <td>...</td>\n",
       "      <td>...</td>\n",
       "    </tr>\n",
       "    <tr>\n",
       "      <th>200373</th>\n",
       "      <td>39205</td>\n",
       "      <td>46275</td>\n",
       "      <td>4</td>\n",
       "      <td>屏</td>\n",
       "    </tr>\n",
       "    <tr>\n",
       "      <th>200374</th>\n",
       "      <td>39205</td>\n",
       "      <td>46276</td>\n",
       "      <td>0</td>\n",
       "      <td>尽日</td>\n",
       "    </tr>\n",
       "    <tr>\n",
       "      <th>200375</th>\n",
       "      <td>39205</td>\n",
       "      <td>46276</td>\n",
       "      <td>1</td>\n",
       "      <td>池边</td>\n",
       "    </tr>\n",
       "    <tr>\n",
       "      <th>200376</th>\n",
       "      <td>39205</td>\n",
       "      <td>46276</td>\n",
       "      <td>2</td>\n",
       "      <td>钓</td>\n",
       "    </tr>\n",
       "    <tr>\n",
       "      <th>200377</th>\n",
       "      <td>39205</td>\n",
       "      <td>46276</td>\n",
       "      <td>3</td>\n",
       "      <td>锦鳞</td>\n",
       "    </tr>\n",
       "  </tbody>\n",
       "</table>\n",
       "<p>200378 rows × 4 columns</p>\n",
       "</div>"
      ],
      "text/plain": [
       "        Poem_id  level_0  level_1 word\n",
       "0          4371        0        0    饯\n",
       "1          4371        0        1    唐\n",
       "2          4371        0        2   永昌\n",
       "3          4371        0        3    一\n",
       "4          4371        0        4    作\n",
       "...         ...      ...      ...  ...\n",
       "200373    39205    46275        4    屏\n",
       "200374    39205    46276        0   尽日\n",
       "200375    39205    46276        1   池边\n",
       "200376    39205    46276        2    钓\n",
       "200377    39205    46276        3   锦鳞\n",
       "\n",
       "[200378 rows x 4 columns]"
      ]
     },
     "execution_count": 5,
     "metadata": {},
     "output_type": "execute_result"
    }
   ],
   "source": [
    "# 按照空格分开，stack\n",
    "split_words = table['words'].str.split(' ', expand=True).stack().rename('word').reset_index()\n",
    "new_data = pd.merge(table['Poem_id'], split_words, left_index=True, right_on='level_0')\n",
    "new_data"
   ]
  },
  {
   "cell_type": "code",
   "execution_count": 6,
   "id": "e19541a4",
   "metadata": {
    "collapsed": true
   },
   "outputs": [],
   "source": [
    "new_data = new_data[new_data.word != '一作']"
   ]
  },
  {
   "cell_type": "markdown",
   "id": "38b06b7e",
   "metadata": {},
   "source": [
    "# 2 计算上下文TF-IDF矩阵"
   ]
  },
  {
   "cell_type": "code",
   "execution_count": 7,
   "id": "d952f01d",
   "metadata": {
    "collapsed": true
   },
   "outputs": [],
   "source": [
    "new_data1 = new_data.drop('level_0', axis = 1)\n",
    "#记录位置\n",
    "def process(x):\n",
    "    x['position'] = range(len(x))\n",
    "    return x\n",
    "new_data2 = new_data1.groupby('Poem_id').apply(lambda x:process(x))\n",
    "new_data3 = new_data2.drop('level_1', axis =1)\n",
    "new_data4 = new_data3.merge(new_data3, left_on = 'Poem_id', right_on = 'Poem_id', how = 'left')"
   ]
  },
  {
   "cell_type": "code",
   "execution_count": null,
   "id": "15a9f5cf",
   "metadata": {
    "collapsed": true
   },
   "outputs": [],
   "source": [
    "#上下文范围\n",
    "new_data5 = new_data4[abs(new_data4.position_x - new_data4.position_y) <= rrange]\n",
    "new_data5 = new_data5[new_data5.position_x != new_data5.position_y]"
   ]
  },
  {
   "cell_type": "markdown",
   "id": "b0f958fb",
   "metadata": {},
   "source": [
    "## 2.1计算TF"
   ]
  },
  {
   "cell_type": "code",
   "execution_count": null,
   "id": "b26e58c4",
   "metadata": {},
   "outputs": [],
   "source": [
    "punish_coef = 0.4\n",
    "new_data5['same_len'] = new_data5.apply(lambda x: 1 if len(x.word_x) == len(x.word_y) else punish_coef, axis = 1)"
   ]
  },
  {
   "cell_type": "code",
   "execution_count": null,
   "id": "6d8c8f1d",
   "metadata": {},
   "outputs": [],
   "source": [
    "new_data5"
   ]
  },
  {
   "cell_type": "code",
   "execution_count": null,
   "id": "eb707de1",
   "metadata": {
    "collapsed": true
   },
   "outputs": [],
   "source": [
    "#计算tf\n",
    "new_data5['weight'] = 1 #距离等权\n",
    "#new_data5['weight'] = 1/abs(new_data5['position_x'] - new_data5['position_y'])\n",
    "#new_data5['weight'] = 1/np.sqrt(abs(new_data5['position_x'] - new_data5['position_y']))\n",
    "new_data5['weight'] = new_data5['weight'] * new_data5['same_len']"
   ]
  },
  {
   "cell_type": "code",
   "execution_count": null,
   "id": "6c3e3558",
   "metadata": {
    "collapsed": true
   },
   "outputs": [],
   "source": [
    "new_data6 = new_data5.groupby(['word_x', 'word_y']).apply(lambda x:sum(x.weight))\n",
    "new_data7 = pd.DataFrame(new_data6, columns = ['weight'])"
   ]
  },
  {
   "cell_type": "code",
   "execution_count": null,
   "id": "7526fdd2",
   "metadata": {
    "collapsed": true
   },
   "outputs": [],
   "source": [
    "#展开成tf矩阵\n",
    "new_data8 = new_data7.unstack()\n",
    "new_data9=new_data8.fillna(0)"
   ]
  },
  {
   "cell_type": "code",
   "execution_count": null,
   "id": "94ec39ca",
   "metadata": {},
   "outputs": [],
   "source": [
    "#频率大于10进行挖掘\n",
    "new_data['freq']=1\n",
    "a=new_data.groupby('word')['freq'].sum()\n",
    "target_list = a[a>10].index.values"
   ]
  },
  {
   "cell_type": "code",
   "execution_count": null,
   "id": "ba100ba6",
   "metadata": {
    "collapsed": true
   },
   "outputs": [],
   "source": [
    "new_data10 = new_data9.loc[target_list]\n",
    "arr = new_data10.values #tf矩阵"
   ]
  },
  {
   "cell_type": "markdown",
   "id": "f6b6fda5",
   "metadata": {},
   "source": [
    "# 2.2计算IDF"
   ]
  },
  {
   "cell_type": "code",
   "execution_count": null,
   "id": "9e60ebae",
   "metadata": {
    "collapsed": true
   },
   "outputs": [],
   "source": [
    "N = len(new_data5.groupby(['Poem_id', 'position_y']))"
   ]
  },
  {
   "cell_type": "code",
   "execution_count": null,
   "id": "d8a23988",
   "metadata": {},
   "outputs": [],
   "source": [
    "#IDF表示“词 b 出现在多少个词的上下文中”，N表示总共有多少个不同位置的词\n",
    "IDF = np.log(N/new_data5.groupby('word_x')['word_y'].count())"
   ]
  },
  {
   "cell_type": "code",
   "execution_count": null,
   "id": "e844ea4e",
   "metadata": {},
   "outputs": [],
   "source": [
    "idf = IDF.values\n",
    "idf = idf.reshape(1,idf.shape[0])"
   ]
  },
  {
   "cell_type": "code",
   "execution_count": null,
   "id": "0fa79ce3",
   "metadata": {},
   "outputs": [],
   "source": [
    "word_vec = arr * idf"
   ]
  },
  {
   "cell_type": "markdown",
   "id": "e4ef5a12",
   "metadata": {},
   "source": [
    "# 3.计算相关系数，对结果排序"
   ]
  },
  {
   "cell_type": "code",
   "execution_count": null,
   "id": "7d720b6b",
   "metadata": {
    "scrolled": true
   },
   "outputs": [],
   "source": [
    "d={}\n",
    "for i in range(arr.shape[0]):\n",
    "    cur = word_vec[i]\n",
    "    res = np.dot(word_vec,cur)/(np.linalg.norm(cur)*np.linalg.norm(word_vec, axis=1))\n",
    "    b = {x:y for x, y in zip(target_list,res)}\n",
    "    c = sorted(b.items(), key = lambda d:d[1], reverse=True)\n",
    "    key = c[0][0]\n",
    "    d[key] = list(c[1:6])\n",
    "    print(i)"
   ]
  },
  {
   "cell_type": "code",
   "execution_count": null,
   "id": "abb85bcb",
   "metadata": {
    "scrolled": true
   },
   "outputs": [],
   "source": [
    "d['明月']"
   ]
  },
  {
   "cell_type": "markdown",
   "id": "a460824c",
   "metadata": {
    "collapsed": true
   },
   "source": [
    "# 4.和benchmark进行比较"
   ]
  },
  {
   "cell_type": "code",
   "execution_count": null,
   "id": "07f28043",
   "metadata": {},
   "outputs": [],
   "source": [
    "import gensim"
   ]
  },
  {
   "cell_type": "markdown",
   "id": "b45a6eb0",
   "metadata": {},
   "source": [
    "## 4.1处理输入"
   ]
  },
  {
   "cell_type": "code",
   "execution_count": null,
   "id": "183f742b",
   "metadata": {
    "collapsed": true
   },
   "outputs": [],
   "source": [
    "df = pd.read_csv('wordlist_v3.csv')\n",
    "#存储所有分词\n",
    "wl = df['simple'].tolist()\n",
    "weight = pd.read_csv('weight1.csv', index_col = 'word', engine = 'c', encoding = \"utf-8\")\n",
    "\n",
    "#根据id索引它包含的所有分词\n",
    "id_word_dict = {}\n",
    "for i in weight.columns:\n",
    "    l=weight[i]\n",
    "    t = l[l==l]\n",
    "    l1 = t.index.values\n",
    "    id_word_dict[i] = l1\n",
    "\n",
    "sentences = []\n",
    "for value in id_word_dict.values():\n",
    "    sentences.append(list(value))"
   ]
  },
  {
   "cell_type": "code",
   "execution_count": null,
   "id": "c7841588",
   "metadata": {},
   "outputs": [],
   "source": [
    "model=gensim.models.Word2Vec(sentences,sg=1,window=rrange,min_count=10,negative=3,sample=0.001,hs=1,workers=4)\n",
    "\n",
    "#该步骤也可分解为以下三步（但没必要）：\n",
    "#model=gensim.model.Word2Vec() 建立一个空的模型对象\n",
    "#model.build_vocab(sentences) 遍历一次语料库建立词典\n",
    "#model.train(sentences) 第二次遍历语料库建立神经网络模型\n",
    "\n",
    "#sg=1是skip—gram算法，对低频词敏感，默认sg=0为CBOW算法\n",
    "#size是神经网络层数，值太大则会耗内存并使算法计算变慢，一般值取为100到200之间。\n",
    "#window是句子中当前词与目标词之间的最大距离，3表示在目标词前看3-b个词，后面看b个词（b在0-3之间随机）\n",
    "#min_count是对词进行过滤，频率小于min-count的单词则会被忽视，默认值为5。\n",
    "#negative和sample可根据训练结果进行微调，sample表示更高频率的词被随机下采样到所设置的阈值，默认值为1e-3,\n",
    "#negative: 如果>0,则会采用negativesamping，用于设置多少个noise words\n",
    "#hs=1表示层级softmax将会被使用，默认hs=0且negative不为0，则负采样将会被选择使用。\n",
    "#workers是线程数，此参数只有在安装了Cpython后才有效，否则只能使用单核\n",
    "model.wv.save_word2vec_format(\"benchmark\")\t \n",
    "#通过该方式保存的模型，能通过文本格式打开，也能通过设置binary是否保存为二进制文件。但该模型在保存时丢弃了树的保存形式（详情参加word2vec构建过程，以类似哈夫曼树的形式保存词），所以在后续不能对模型进行追加训练\n",
    "model = model.wv.load_word2vec_format('benchmark')"
   ]
  },
  {
   "cell_type": "code",
   "execution_count": null,
   "id": "44e2c165",
   "metadata": {},
   "outputs": [],
   "source": [
    "all_words = weight.index.values"
   ]
  },
  {
   "cell_type": "code",
   "execution_count": null,
   "id": "7451214d",
   "metadata": {},
   "outputs": [],
   "source": [
    "topn_selected = [5, 10, 30, 50, 100]\n",
    "res = {}\n",
    "for n in topn_selected:\n",
    "    l = []\n",
    "    for word in target_list:\n",
    "        try:\n",
    "            x = [t[0] for t in model.most_similar(word,topn=n)] \n",
    "            y = [t[0] for t in d[word][0:5]] \n",
    "            count = 0\n",
    "            for i in x:\n",
    "                if i in y:\n",
    "                    count+=1\n",
    "            l.append(count/5)\n",
    "        except:\n",
    "            continue\n",
    "    res[n] = np.mean(l)"
   ]
  },
  {
   "cell_type": "code",
   "execution_count": null,
   "id": "5a26b79f",
   "metadata": {},
   "outputs": [],
   "source": [
    "res"
   ]
  },
  {
   "cell_type": "code",
   "execution_count": null,
   "id": "58e11ce0",
   "metadata": {},
   "outputs": [],
   "source": [
    "#np.save('similar_dict.npy', d) \n",
    "\n",
    "# Load\n"
   ]
  },
  {
   "cell_type": "code",
   "execution_count": null,
   "id": "849def62",
   "metadata": {},
   "outputs": [],
   "source": [
    "#read_dictionary = np.load('similar_dict.npy',allow_pickle=True).item()\n",
    "#print(read_dictionary['明月']) # displays \"world\""
   ]
  },
  {
   "cell_type": "code",
   "execution_count": null,
   "id": "a15762be",
   "metadata": {
    "collapsed": true
   },
   "outputs": [],
   "source": []
  }
 ],
 "metadata": {
  "kernelspec": {
   "display_name": "Python 3",
   "language": "python",
   "name": "python3"
  },
  "language_info": {
   "codemirror_mode": {
    "name": "ipython",
    "version": 3
   },
   "file_extension": ".py",
   "mimetype": "text/x-python",
   "name": "python",
   "nbconvert_exporter": "python",
   "pygments_lexer": "ipython3",
   "version": "3.8.8"
  }
 },
 "nbformat": 4,
 "nbformat_minor": 5
}
